{
 "cells": [
  {
   "cell_type": "markdown",
   "metadata": {},
   "source": [
    "# 有外场，PBC条件 ，1D Ising model 计算配分函数"
   ]
  },
  {
   "cell_type": "code",
   "execution_count": 1,
   "metadata": {},
   "outputs": [
    {
     "data": {
      "text/plain": [
       "tensor([[4.9757e+08, 2.8555e+07],\n",
       "        [2.8555e+07, 1.6388e+06]], dtype=torch.float64)"
      ]
     },
     "metadata": {},
     "output_type": "display_data"
    },
    {
     "name": "stdout",
     "output_type": "stream",
     "text": [
      "Z=：499207324.134917915\n"
     ]
    }
   ],
   "source": [
    "#PBC\n",
    "import torch,math\n",
    "import numpy as np\n",
    "from scipy.linalg import sqrtm\n",
    "\n",
    "L=10\n",
    "beta=1\n",
    "J=1\n",
    "h=1\n",
    "\n",
    "B=torch.tensor(sqrtm(np.array([[np.exp(beta*(J+h)),np.exp(-beta*J)],[np.exp(-beta*J),np.exp(-beta*(-J+h))]]))) \n",
    "A2=B@B \n",
    "res=A2\n",
    "for head in range(L-1):\n",
    "    res=torch.einsum(\"ij,jk->ik\",res,A2)\n",
    "\n",
    "display(res)\n",
    "print(\"Z=：{:.9f}\".format(np.trace(res)))\n",
    "\n",
    "#matlab  Exhaust\n",
    "#L = 5.000000       beta = 1.000000      z = 22343.846756\n",
    "#L = 8.000000       beta = 1.000000      z = 9091275.076550\n",
    "#L = 10.000000      beta = 1.000000      z = 499207324.134915"
   ]
  },
  {
   "cell_type": "markdown",
   "metadata": {},
   "source": [
    "# 有外场，FBC条件 ，1D Ising model 计算配分函数"
   ]
  },
  {
   "cell_type": "code",
   "execution_count": 68,
   "metadata": {},
   "outputs": [
    {
     "data": {
      "text/plain": [
       "tensor([[1.8252e+08, 3.8535e+06],\n",
       "        [3.8535e+06, 8.1359e+04]], dtype=torch.float64)"
      ]
     },
     "metadata": {},
     "output_type": "display_data"
    },
    {
     "name": "stdout",
     "output_type": "stream",
     "text": [
      "Z=：190312166.762945831\n"
     ]
    }
   ],
   "source": [
    "#fBC\n",
    "import torch,math\n",
    "import numpy as np\n",
    "from scipy.linalg import sqrtm\n",
    "\n",
    "L=10     # L>=4\n",
    "beta=1\n",
    "J=1\n",
    "h=1\n",
    "\n",
    "B1=torch.tensor(np.array([[np.exp(-beta*(-J-1.5*h)),np.exp(-beta*(J-0.5*h))],[np.exp(-beta*(J+0.5*h)),np.exp(-beta*(-J+1.5*h))]])) \n",
    "A1 = B1\n",
    "\n",
    "B2=torch.tensor(np.array([[np.exp(beta*(J+h)),np.exp(-beta*J)],[np.exp(-beta*J),np.exp(-beta*(-J+h))]])) \n",
    "A2 = B2\n",
    "\n",
    "B3=torch.tensor(np.array([[np.exp(-beta*(-J-1.5*h)),np.exp(-beta*(J+0.5*h))],[np.exp(-beta*(J-0.5*h)),np.exp(-beta*(-J+1.5*h))]])) \n",
    "A3 = B3\n",
    "\n",
    "res=A1\n",
    "for head in range(L-3):\n",
    "    res=torch.einsum(\"ij,jk->ik\",res,A2)\n",
    "\n",
    "res=torch.einsum(\"ij,jk->ik\",res,A3)\n",
    "\n",
    "display(res)\n",
    "print(\"Z=：{:.9f}\".format(torch.sum(res)))\n",
    "\n",
    "#matlab  Exhaust\n",
    "#L = 5.000000       beta = 1.000000      z = 8518.013168\n",
    "#L = 8.000000       beta = 1.000000      z = 3465855.021551\n",
    "#L = 10.000000      beta = 1.000000      z = 190312166.762946"
   ]
  },
  {
   "cell_type": "code",
   "execution_count": null,
   "metadata": {},
   "outputs": [],
   "source": []
  }
 ],
 "metadata": {
  "kernelspec": {
   "display_name": "Python 3 (ipykernel)",
   "language": "python",
   "name": "python3"
  },
  "language_info": {
   "codemirror_mode": {
    "name": "ipython",
    "version": 3
   },
   "file_extension": ".py",
   "mimetype": "text/x-python",
   "name": "python",
   "nbconvert_exporter": "python",
   "pygments_lexer": "ipython3",
   "version": "3.9.12"
  }
 },
 "nbformat": 4,
 "nbformat_minor": 2
}

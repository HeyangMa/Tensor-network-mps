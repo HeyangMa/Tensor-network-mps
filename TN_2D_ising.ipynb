{
 "cells": [
  {
   "cell_type": "markdown",
   "metadata": {},
   "source": [
    "# 有外场，PBC条件，2D Ising model"
   ]
  },
  {
   "cell_type": "code",
   "execution_count": 27,
   "metadata": {
    "scrolled": true
   },
   "outputs": [
    {
     "data": {
      "text/plain": [
       "[[tensor([[[[19.9400,  1.2063],\n",
       "            [ 1.2063,  0.0824]],\n",
       "  \n",
       "           [[ 1.2063,  0.0824],\n",
       "            [ 0.0824,  0.0623]]],\n",
       "  \n",
       "  \n",
       "          [[[ 1.2063,  0.0824],\n",
       "            [ 0.0824,  0.0623]],\n",
       "  \n",
       "           [[ 0.0824,  0.0623],\n",
       "            [ 0.0623,  0.3486]]]], dtype=torch.float64),\n",
       "  tensor([[[[19.9400,  1.2063],\n",
       "            [ 1.2063,  0.0824]],\n",
       "  \n",
       "           [[ 1.2063,  0.0824],\n",
       "            [ 0.0824,  0.0623]]],\n",
       "  \n",
       "  \n",
       "          [[[ 1.2063,  0.0824],\n",
       "            [ 0.0824,  0.0623]],\n",
       "  \n",
       "           [[ 0.0824,  0.0623],\n",
       "            [ 0.0623,  0.3486]]]], dtype=torch.float64),\n",
       "  tensor([[[[19.9400,  1.2063],\n",
       "            [ 1.2063,  0.0824]],\n",
       "  \n",
       "           [[ 1.2063,  0.0824],\n",
       "            [ 0.0824,  0.0623]]],\n",
       "  \n",
       "  \n",
       "          [[[ 1.2063,  0.0824],\n",
       "            [ 0.0824,  0.0623]],\n",
       "  \n",
       "           [[ 0.0824,  0.0623],\n",
       "            [ 0.0623,  0.3486]]]], dtype=torch.float64)],\n",
       " [tensor([[[[19.9400,  1.2063],\n",
       "            [ 1.2063,  0.0824]],\n",
       "  \n",
       "           [[ 1.2063,  0.0824],\n",
       "            [ 0.0824,  0.0623]]],\n",
       "  \n",
       "  \n",
       "          [[[ 1.2063,  0.0824],\n",
       "            [ 0.0824,  0.0623]],\n",
       "  \n",
       "           [[ 0.0824,  0.0623],\n",
       "            [ 0.0623,  0.3486]]]], dtype=torch.float64),\n",
       "  tensor([[[[19.9400,  1.2063],\n",
       "            [ 1.2063,  0.0824]],\n",
       "  \n",
       "           [[ 1.2063,  0.0824],\n",
       "            [ 0.0824,  0.0623]]],\n",
       "  \n",
       "  \n",
       "          [[[ 1.2063,  0.0824],\n",
       "            [ 0.0824,  0.0623]],\n",
       "  \n",
       "           [[ 0.0824,  0.0623],\n",
       "            [ 0.0623,  0.3486]]]], dtype=torch.float64),\n",
       "  tensor([[[[19.9400,  1.2063],\n",
       "            [ 1.2063,  0.0824]],\n",
       "  \n",
       "           [[ 1.2063,  0.0824],\n",
       "            [ 0.0824,  0.0623]]],\n",
       "  \n",
       "  \n",
       "          [[[ 1.2063,  0.0824],\n",
       "            [ 0.0824,  0.0623]],\n",
       "  \n",
       "           [[ 0.0824,  0.0623],\n",
       "            [ 0.0623,  0.3486]]]], dtype=torch.float64)],\n",
       " [tensor([[[[19.9400,  1.2063],\n",
       "            [ 1.2063,  0.0824]],\n",
       "  \n",
       "           [[ 1.2063,  0.0824],\n",
       "            [ 0.0824,  0.0623]]],\n",
       "  \n",
       "  \n",
       "          [[[ 1.2063,  0.0824],\n",
       "            [ 0.0824,  0.0623]],\n",
       "  \n",
       "           [[ 0.0824,  0.0623],\n",
       "            [ 0.0623,  0.3486]]]], dtype=torch.float64),\n",
       "  tensor([[[[19.9400,  1.2063],\n",
       "            [ 1.2063,  0.0824]],\n",
       "  \n",
       "           [[ 1.2063,  0.0824],\n",
       "            [ 0.0824,  0.0623]]],\n",
       "  \n",
       "  \n",
       "          [[[ 1.2063,  0.0824],\n",
       "            [ 0.0824,  0.0623]],\n",
       "  \n",
       "           [[ 0.0824,  0.0623],\n",
       "            [ 0.0623,  0.3486]]]], dtype=torch.float64),\n",
       "  tensor([[[[19.9400,  1.2063],\n",
       "            [ 1.2063,  0.0824]],\n",
       "  \n",
       "           [[ 1.2063,  0.0824],\n",
       "            [ 0.0824,  0.0623]]],\n",
       "  \n",
       "  \n",
       "          [[[ 1.2063,  0.0824],\n",
       "            [ 0.0824,  0.0623]],\n",
       "  \n",
       "           [[ 0.0824,  0.0623],\n",
       "            [ 0.0623,  0.3486]]]], dtype=torch.float64)]]"
      ]
     },
     "metadata": {},
     "output_type": "display_data"
    }
   ],
   "source": [
    "import torch,math\n",
    "import numpy as np\n",
    "from scipy.linalg import sqrtm\n",
    "L=3\n",
    "J=1\n",
    "h=1\n",
    "beta=1\n",
    "\n",
    "#the Boltzmann matrix\n",
    "B=torch.tensor(sqrtm(np.array([[np.exp(-beta*(-J-h/2)),np.exp(-beta*J)],[np.exp(-beta*J),np.exp(beta*(-J+h/2))]])))\n",
    "\n",
    "A4=torch.einsum(\"i,j,k,l->ijkl\",B[:,0],B[:,0],B[:,0],B[:,0]) + torch.einsum(\"i,j,k,l->ijkl\",B[:,1],B[:,1],B[:,1],B[:,1])\n",
    "    \n",
    "tensors=[]\n",
    "for j in range(L):\n",
    "    tensors.append( [ A4 for i in range(L) ] )\n",
    "    \n",
    "display(tensors)"
   ]
  },
  {
   "cell_type": "code",
   "execution_count": 24,
   "metadata": {},
   "outputs": [
    {
     "name": "stdout",
     "output_type": "stream",
     "text": [
      "--------------------------------------------------------\n",
      "tensor(5973.9166, dtype=torch.float64)\n"
     ]
    }
   ],
   "source": [
    "import torch,math\n",
    "import numpy as np\n",
    "from scipy.linalg import sqrtm\n",
    "\n",
    "J=1\n",
    "h=0\n",
    "beta=1\n",
    "\n",
    "#the Boltzmann matrix\n",
    "B=torch.tensor(sqrtm(np.array([[np.exp(-beta*(-J-h/2)),np.exp(-beta*J)],[np.exp(-beta*J),np.exp(-beta*(-J+h/2))]])))\n",
    "\n",
    "A4=torch.einsum(\"i,j,k,l->ijkl\",B[:,0],B[:,0],B[:,0],B[:,0]) + torch.einsum(\"i,j,k,l->ijkl\",B[:,1],B[:,1],B[:,1],B[:,1])\n",
    "\n",
    "AA4=torch.einsum(\"ijkl,kabc->ijablc\",A4,A4).contiguous().view(2,4,2,4)\n",
    "\n",
    "AAA4=torch.einsum(\"ijkl,abcj->iabkcl\",AA4,AA4).contiguous().view(4,4,4,4)\n",
    "\n",
    "print(torch.trace(AAA4.view(16,16)))"
   ]
  },
  {
   "cell_type": "markdown",
   "metadata": {},
   "source": [
    "# $\\sqrt{B}$"
   ]
  },
  {
   "cell_type": "code",
   "execution_count": 23,
   "metadata": {},
   "outputs": [
    {
     "name": "stdout",
     "output_type": "stream",
     "text": [
      "tensor(5973.9166, dtype=torch.float64)\n"
     ]
    }
   ],
   "source": [
    "import torch,math\n",
    "import numpy as np\n",
    "from scipy.linalg import sqrtm\n",
    "\n",
    "J=1\n",
    "h=0\n",
    "beta=1\n",
    "\n",
    "#the Boltzmann matrix\n",
    "B=torch.tensor(sqrtm(np.array([[np.exp(-beta*(-J-h/2)),np.exp(-beta*J)],[np.exp(-beta*J),np.exp(-beta*(-J+h/2))]])))\n",
    "\n",
    "A4=torch.einsum(\"i,j,k,l->ijkl\",B[:,0],B[:,0],B[:,0],B[:,0]) + torch.einsum(\"i,j,k,l->ijkl\",B[:,1],B[:,1],B[:,1],B[:,1])\n",
    "\n",
    "AA4=torch.einsum(\"ijkl,kabc->ijablc\",A4,A4)#.contiguous().view(2,4,2,4)\n",
    "\n",
    "AAA4=torch.einsum(\"ijklmn,abcdjk->iabcldmn\",AA4,AA4)#.contiguous().view(4,4,4,4)\n",
    "\n",
    "#              k m\n",
    "#       i      ||     i\n",
    "#       ==== AAA4 ====\n",
    "#      j      ||     j\n",
    "#            k m\n",
    "\n",
    "trace=0\n",
    "for i in range(2):\n",
    "    for j in range(2):\n",
    "        for k in range(2):\n",
    "            for m in range(2):\n",
    "                trace = trace + AAA4[i,j,k,m,i,j,k,m]\n",
    "print(trace)"
   ]
  },
  {
   "cell_type": "markdown",
   "metadata": {},
   "source": [
    "# W"
   ]
  },
  {
   "cell_type": "code",
   "execution_count": 55,
   "metadata": {},
   "outputs": [
    {
     "name": "stdout",
     "output_type": "stream",
     "text": [
      "tensor(5973.9166, dtype=torch.float64)\n"
     ]
    }
   ],
   "source": [
    "import torch,math\n",
    "import numpy as np\n",
    "from scipy.linalg import sqrtm\n",
    "\n",
    "beta=1\n",
    "\n",
    "W=torch.tensor([[np.sqrt(np.cosh(beta)),np.sqrt(np.sinh(beta))],[np.sqrt(np.cosh(beta)),-np.sqrt(np.sinh(beta))]])\n",
    "# display(W)\n",
    "\n",
    "T=torch.einsum(\"ia,ib,ic,id->abcd\",W,W,W,W)#.contiguous().view(2,2,2,2)\n",
    "# display(T)\n",
    "       \n",
    "#      |    k  |\n",
    "# i---- T ---  T----\n",
    "#     | j     |\n",
    "T2=torch.einsum(\"ijkl,kabc->ijablc\",T,T)#.contiguous().view(2,4,2,4)\n",
    "# display(T2.shape)\n",
    "\n",
    "# T2\n",
    "# |\n",
    "# T2\n",
    "# T22=torch.einsum(\"ijklnm,abcdkj->iabcldnm\",T2,T2)#.contiguous().view(4,4,4,4)\n",
    "T22=torch.einsum(\"ijklmn,abcdjk->iabcldmn\",T2,T2)#.contiguous().view(4,4,4,4)\n",
    "# display(T22.shape)\n",
    "\n",
    "# T22=torch.einsum(\"abcd,cfgh,ihkl,mdip->abfgklmp\",T,T,T,T)\n",
    "#            k m\n",
    "#       i    ||    i\n",
    "#       ====T22====\n",
    "#      j    ||    j\n",
    "#          k m\n",
    "\n",
    "trace=0\n",
    "for i in range(2):\n",
    "    for j in range(2):\n",
    "        for k in range(2):\n",
    "            for m in range(2):\n",
    "                trace = trace + T22[i,j,k,m,i,j,k,m]\n",
    "#                 trace = trace + T22[i,j,m,k,i,j,k,m]\n",
    "print(trace)"
   ]
  },
  {
   "cell_type": "markdown",
   "metadata": {},
   "source": [
    "# T[0-2]"
   ]
  },
  {
   "cell_type": "code",
   "execution_count": 93,
   "metadata": {},
   "outputs": [
    {
     "name": "stderr",
     "output_type": "stream",
     "text": [
      "C:\\Users\\MHY\\AppData\\Local\\Temp\\ipykernel_1584\\1384056890.py:38: RuntimeWarning: divide by zero encountered in double_scalars\n",
      "  f1 = - 1 / betalist[i] * (np.log(z1))/8\n"
     ]
    },
    {
     "data": {
      "image/png": "[encoded data removed]",
      "text/plain": [
       "<Figure size 432x288 with 1 Axes>"
      ]
     },
     "metadata": {
      "needs_background": "light"
     },
     "output_type": "display_data"
    }
   ],
   "source": [
    "import torch,math\n",
    "import numpy as np\n",
    "from scipy.linalg import sqrtm\n",
    "import matplotlib.pyplot as plt\n",
    "\n",
    "\n",
    "def calcu_z(J,h,beta):\n",
    "    #the Boltzmann matrix\n",
    "    B=torch.tensor(sqrtm(np.array([[np.exp(-beta*(-J-h/2)),np.exp(-beta*J)],[np.exp(-beta*J),np.exp(-beta*(-J+h/2))]])))\n",
    "\n",
    "    A4=torch.einsum(\"i,j,k,l->ijkl\",B[:,0],B[:,0],B[:,0],B[:,0]) + torch.einsum(\"i,j,k,l->ijkl\",B[:,1],B[:,1],B[:,1],B[:,1])\n",
    "\n",
    "    AA4=torch.einsum(\"ijkl,kabc->ijablc\",A4,A4)#.contiguous().view(2,4,2,4)\n",
    "\n",
    "    AAA4=torch.einsum(\"ijklmn,abcdjk->iabcldmn\",AA4,AA4)#.contiguous().view(4,4,4,4)\n",
    "    #              k m\n",
    "    #       i      ||     i\n",
    "    #       ==== AAA4 ====\n",
    "    #      j      ||     j\n",
    "    #            k m\n",
    "    trace=0\n",
    "    for i in range(2):\n",
    "        for j in range(2):\n",
    "            for k in range(2):\n",
    "                for m in range(2):\n",
    "                    trace = trace + AAA4[i,j,k,m,i,j,k,m]\n",
    "    return trace\n",
    "\n",
    "J=1\n",
    "h=0\n",
    "betalist=np.linspace(0, 2, 21)\n",
    "\n",
    "# main\n",
    "z=[]\n",
    "F=[]\n",
    "for i in range(len(betalist)):\n",
    "    z1=calcu_z(J,h,betalist[i])\n",
    "    f1 = - 1 / betalist[i] * (np.log(z1))\n",
    "    z.append(z1)\n",
    "    F.append(f1)\n",
    "\n",
    "    \n",
    "\n",
    "plt.plot(betalist, F, c='k');\n",
    "plt.title('Free Energy');\n",
    "plt.xlabel('beta');\n",
    "plt.ylabel('F');"
   ]
  },
  {
   "cell_type": "code",
   "execution_count": 73,
   "metadata": {},
   "outputs": [
    {
     "data": {
      "text/plain": [
       "tensor(0.2999, dtype=torch.float64)"
      ]
     },
     "execution_count": 73,
     "metadata": {},
     "output_type": "execute_result"
    }
   ],
   "source": [
    "np.log(z[1]-z[0])"
   ]
  },
  {
   "cell_type": "code",
   "execution_count": 4,
   "metadata": {},
   "outputs": [
    {
     "name": "stdout",
     "output_type": "stream",
     "text": [
      "tensor([[0.3679+0.j, 2.7183+0.j],\n",
      "        [2.7183+0.j, 0.3679+0.j]], dtype=torch.complex128)\n"
     ]
    }
   ],
   "source": [
    "import torch,math\n",
    "import numpy as np\n",
    "from scipy.linalg import sqrtm\n",
    "L=3\n",
    "J=1\n",
    "h=1\n",
    "beta=1\n",
    "\n",
    "#the Boltzmann matrix\n",
    "# B=torch.tensor(sqrtm(np.array([[np.exp(-beta*(-J-h/2)),np.exp(-beta*J)],[np.exp(-beta*J),np.exp(beta*(-J+h/2))]])))\n",
    "B=torch.tensor(sqrtm(np.array([[np.exp(-1),np.exp(1)],[np.exp(1),np.exp(-1)]])))\n",
    "print(B@B)"
   ]
  }
 ],
 "metadata": {
  "kernelspec": {
   "display_name": "Python 3 (ipykernel)",
   "language": "python",
   "name": "python3"
  },
  "language_info": {
   "codemirror_mode": {
    "name": "ipython",
    "version": 3
   },
   "file_extension": ".py",
   "mimetype": "text/x-python",
   "name": "python",
   "nbconvert_exporter": "python",
   "pygments_lexer": "ipython3",
   "version": "3.9.12"
  }
 },
 "nbformat": 4,
 "nbformat_minor": 2
}
